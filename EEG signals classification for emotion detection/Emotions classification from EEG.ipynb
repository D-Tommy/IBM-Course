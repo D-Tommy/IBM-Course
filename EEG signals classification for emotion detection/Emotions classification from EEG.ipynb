{
 "cells": [
  {
   "cell_type": "code",
   "execution_count": 106,
   "id": "taken-desire",
   "metadata": {},
   "outputs": [],
   "source": [
    "import numpy as np\n",
    "import pandas as pd\n",
    "import matplotlib.pyplot as plt \n",
    "from matplotlib.lines import Line2D"
   ]
  },
  {
   "cell_type": "markdown",
   "id": "earned-storage",
   "metadata": {},
   "source": [
    "## Basic overview"
   ]
  },
  {
   "cell_type": "code",
   "execution_count": 3,
   "id": "alpha-bolivia",
   "metadata": {},
   "outputs": [],
   "source": [
    "df = pd.read_csv('data/emotions.csv')"
   ]
  },
  {
   "cell_type": "code",
   "execution_count": 4,
   "id": "promising-addition",
   "metadata": {},
   "outputs": [
    {
     "data": {
      "text/html": [
       "<div>\n",
       "<style scoped>\n",
       "    .dataframe tbody tr th:only-of-type {\n",
       "        vertical-align: middle;\n",
       "    }\n",
       "\n",
       "    .dataframe tbody tr th {\n",
       "        vertical-align: top;\n",
       "    }\n",
       "\n",
       "    .dataframe thead th {\n",
       "        text-align: right;\n",
       "    }\n",
       "</style>\n",
       "<table border=\"1\" class=\"dataframe\">\n",
       "  <thead>\n",
       "    <tr style=\"text-align: right;\">\n",
       "      <th></th>\n",
       "      <th># mean_0_a</th>\n",
       "      <th>mean_1_a</th>\n",
       "      <th>mean_2_a</th>\n",
       "      <th>mean_3_a</th>\n",
       "      <th>mean_4_a</th>\n",
       "      <th>mean_d_0_a</th>\n",
       "      <th>mean_d_1_a</th>\n",
       "      <th>mean_d_2_a</th>\n",
       "      <th>mean_d_3_a</th>\n",
       "      <th>mean_d_4_a</th>\n",
       "      <th>...</th>\n",
       "      <th>fft_741_b</th>\n",
       "      <th>fft_742_b</th>\n",
       "      <th>fft_743_b</th>\n",
       "      <th>fft_744_b</th>\n",
       "      <th>fft_745_b</th>\n",
       "      <th>fft_746_b</th>\n",
       "      <th>fft_747_b</th>\n",
       "      <th>fft_748_b</th>\n",
       "      <th>fft_749_b</th>\n",
       "      <th>label</th>\n",
       "    </tr>\n",
       "  </thead>\n",
       "  <tbody>\n",
       "    <tr>\n",
       "      <th>0</th>\n",
       "      <td>4.62</td>\n",
       "      <td>30.3</td>\n",
       "      <td>-356.0</td>\n",
       "      <td>15.6</td>\n",
       "      <td>26.3</td>\n",
       "      <td>1.070</td>\n",
       "      <td>0.411</td>\n",
       "      <td>-15.70</td>\n",
       "      <td>2.06</td>\n",
       "      <td>3.15</td>\n",
       "      <td>...</td>\n",
       "      <td>23.5</td>\n",
       "      <td>20.3</td>\n",
       "      <td>20.3</td>\n",
       "      <td>23.5</td>\n",
       "      <td>-215.0</td>\n",
       "      <td>280.00</td>\n",
       "      <td>-162.00</td>\n",
       "      <td>-162.00</td>\n",
       "      <td>280.00</td>\n",
       "      <td>NEGATIVE</td>\n",
       "    </tr>\n",
       "    <tr>\n",
       "      <th>1</th>\n",
       "      <td>28.80</td>\n",
       "      <td>33.1</td>\n",
       "      <td>32.0</td>\n",
       "      <td>25.8</td>\n",
       "      <td>22.8</td>\n",
       "      <td>6.550</td>\n",
       "      <td>1.680</td>\n",
       "      <td>2.88</td>\n",
       "      <td>3.83</td>\n",
       "      <td>-4.82</td>\n",
       "      <td>...</td>\n",
       "      <td>-23.3</td>\n",
       "      <td>-21.8</td>\n",
       "      <td>-21.8</td>\n",
       "      <td>-23.3</td>\n",
       "      <td>182.0</td>\n",
       "      <td>2.57</td>\n",
       "      <td>-31.60</td>\n",
       "      <td>-31.60</td>\n",
       "      <td>2.57</td>\n",
       "      <td>NEUTRAL</td>\n",
       "    </tr>\n",
       "    <tr>\n",
       "      <th>2</th>\n",
       "      <td>8.90</td>\n",
       "      <td>29.4</td>\n",
       "      <td>-416.0</td>\n",
       "      <td>16.7</td>\n",
       "      <td>23.7</td>\n",
       "      <td>79.900</td>\n",
       "      <td>3.360</td>\n",
       "      <td>90.20</td>\n",
       "      <td>89.90</td>\n",
       "      <td>2.03</td>\n",
       "      <td>...</td>\n",
       "      <td>462.0</td>\n",
       "      <td>-233.0</td>\n",
       "      <td>-233.0</td>\n",
       "      <td>462.0</td>\n",
       "      <td>-267.0</td>\n",
       "      <td>281.00</td>\n",
       "      <td>-148.00</td>\n",
       "      <td>-148.00</td>\n",
       "      <td>281.00</td>\n",
       "      <td>POSITIVE</td>\n",
       "    </tr>\n",
       "    <tr>\n",
       "      <th>3</th>\n",
       "      <td>14.90</td>\n",
       "      <td>31.6</td>\n",
       "      <td>-143.0</td>\n",
       "      <td>19.8</td>\n",
       "      <td>24.3</td>\n",
       "      <td>-0.584</td>\n",
       "      <td>-0.284</td>\n",
       "      <td>8.82</td>\n",
       "      <td>2.30</td>\n",
       "      <td>-1.97</td>\n",
       "      <td>...</td>\n",
       "      <td>299.0</td>\n",
       "      <td>-243.0</td>\n",
       "      <td>-243.0</td>\n",
       "      <td>299.0</td>\n",
       "      <td>132.0</td>\n",
       "      <td>-12.40</td>\n",
       "      <td>9.53</td>\n",
       "      <td>9.53</td>\n",
       "      <td>-12.40</td>\n",
       "      <td>POSITIVE</td>\n",
       "    </tr>\n",
       "    <tr>\n",
       "      <th>4</th>\n",
       "      <td>28.30</td>\n",
       "      <td>31.3</td>\n",
       "      <td>45.2</td>\n",
       "      <td>27.3</td>\n",
       "      <td>24.5</td>\n",
       "      <td>34.800</td>\n",
       "      <td>-5.790</td>\n",
       "      <td>3.06</td>\n",
       "      <td>41.40</td>\n",
       "      <td>5.52</td>\n",
       "      <td>...</td>\n",
       "      <td>12.0</td>\n",
       "      <td>38.1</td>\n",
       "      <td>38.1</td>\n",
       "      <td>12.0</td>\n",
       "      <td>119.0</td>\n",
       "      <td>-17.60</td>\n",
       "      <td>23.90</td>\n",
       "      <td>23.90</td>\n",
       "      <td>-17.60</td>\n",
       "      <td>NEUTRAL</td>\n",
       "    </tr>\n",
       "  </tbody>\n",
       "</table>\n",
       "<p>5 rows × 2549 columns</p>\n",
       "</div>"
      ],
      "text/plain": [
       "   # mean_0_a  mean_1_a  mean_2_a  mean_3_a  mean_4_a  mean_d_0_a  mean_d_1_a  \\\n",
       "0        4.62      30.3    -356.0      15.6      26.3       1.070       0.411   \n",
       "1       28.80      33.1      32.0      25.8      22.8       6.550       1.680   \n",
       "2        8.90      29.4    -416.0      16.7      23.7      79.900       3.360   \n",
       "3       14.90      31.6    -143.0      19.8      24.3      -0.584      -0.284   \n",
       "4       28.30      31.3      45.2      27.3      24.5      34.800      -5.790   \n",
       "\n",
       "   mean_d_2_a  mean_d_3_a  mean_d_4_a  ...  fft_741_b  fft_742_b  fft_743_b  \\\n",
       "0      -15.70        2.06        3.15  ...       23.5       20.3       20.3   \n",
       "1        2.88        3.83       -4.82  ...      -23.3      -21.8      -21.8   \n",
       "2       90.20       89.90        2.03  ...      462.0     -233.0     -233.0   \n",
       "3        8.82        2.30       -1.97  ...      299.0     -243.0     -243.0   \n",
       "4        3.06       41.40        5.52  ...       12.0       38.1       38.1   \n",
       "\n",
       "   fft_744_b  fft_745_b  fft_746_b  fft_747_b  fft_748_b  fft_749_b     label  \n",
       "0       23.5     -215.0     280.00    -162.00    -162.00     280.00  NEGATIVE  \n",
       "1      -23.3      182.0       2.57     -31.60     -31.60       2.57   NEUTRAL  \n",
       "2      462.0     -267.0     281.00    -148.00    -148.00     281.00  POSITIVE  \n",
       "3      299.0      132.0     -12.40       9.53       9.53     -12.40  POSITIVE  \n",
       "4       12.0      119.0     -17.60      23.90      23.90     -17.60   NEUTRAL  \n",
       "\n",
       "[5 rows x 2549 columns]"
      ]
     },
     "execution_count": 4,
     "metadata": {},
     "output_type": "execute_result"
    }
   ],
   "source": [
    "df.head()"
   ]
  },
  {
   "cell_type": "code",
   "execution_count": 5,
   "id": "revised-sunrise",
   "metadata": {},
   "outputs": [
    {
     "data": {
      "text/html": [
       "<div>\n",
       "<style scoped>\n",
       "    .dataframe tbody tr th:only-of-type {\n",
       "        vertical-align: middle;\n",
       "    }\n",
       "\n",
       "    .dataframe tbody tr th {\n",
       "        vertical-align: top;\n",
       "    }\n",
       "\n",
       "    .dataframe thead th {\n",
       "        text-align: right;\n",
       "    }\n",
       "</style>\n",
       "<table border=\"1\" class=\"dataframe\">\n",
       "  <thead>\n",
       "    <tr style=\"text-align: right;\">\n",
       "      <th></th>\n",
       "      <th># mean_0_a</th>\n",
       "      <th>mean_1_a</th>\n",
       "      <th>mean_2_a</th>\n",
       "      <th>mean_3_a</th>\n",
       "      <th>mean_4_a</th>\n",
       "      <th>mean_d_0_a</th>\n",
       "      <th>mean_d_1_a</th>\n",
       "      <th>mean_d_2_a</th>\n",
       "      <th>mean_d_3_a</th>\n",
       "      <th>mean_d_4_a</th>\n",
       "      <th>...</th>\n",
       "      <th>fft_740_b</th>\n",
       "      <th>fft_741_b</th>\n",
       "      <th>fft_742_b</th>\n",
       "      <th>fft_743_b</th>\n",
       "      <th>fft_744_b</th>\n",
       "      <th>fft_745_b</th>\n",
       "      <th>fft_746_b</th>\n",
       "      <th>fft_747_b</th>\n",
       "      <th>fft_748_b</th>\n",
       "      <th>fft_749_b</th>\n",
       "    </tr>\n",
       "  </thead>\n",
       "  <tbody>\n",
       "    <tr>\n",
       "      <th>count</th>\n",
       "      <td>2132.000000</td>\n",
       "      <td>2132.000000</td>\n",
       "      <td>2132.000000</td>\n",
       "      <td>2132.000000</td>\n",
       "      <td>2132.000000</td>\n",
       "      <td>2132.000000</td>\n",
       "      <td>2132.000000</td>\n",
       "      <td>2132.000000</td>\n",
       "      <td>2132.000000</td>\n",
       "      <td>2132.000000</td>\n",
       "      <td>...</td>\n",
       "      <td>2132.000000</td>\n",
       "      <td>2132.000000</td>\n",
       "      <td>2132.000000</td>\n",
       "      <td>2132.000000</td>\n",
       "      <td>2132.000000</td>\n",
       "      <td>2132.000000</td>\n",
       "      <td>2132.000000</td>\n",
       "      <td>2132.000000</td>\n",
       "      <td>2132.000000</td>\n",
       "      <td>2132.000000</td>\n",
       "    </tr>\n",
       "    <tr>\n",
       "      <th>mean</th>\n",
       "      <td>15.256914</td>\n",
       "      <td>27.012462</td>\n",
       "      <td>-104.975629</td>\n",
       "      <td>13.605898</td>\n",
       "      <td>24.150483</td>\n",
       "      <td>0.025378</td>\n",
       "      <td>0.052282</td>\n",
       "      <td>0.301655</td>\n",
       "      <td>0.036793</td>\n",
       "      <td>0.083567</td>\n",
       "      <td>...</td>\n",
       "      <td>-22.938971</td>\n",
       "      <td>104.946111</td>\n",
       "      <td>-51.973647</td>\n",
       "      <td>-51.973647</td>\n",
       "      <td>104.946111</td>\n",
       "      <td>-6.934144</td>\n",
       "      <td>95.104886</td>\n",
       "      <td>-49.061255</td>\n",
       "      <td>-49.061255</td>\n",
       "      <td>95.104886</td>\n",
       "    </tr>\n",
       "    <tr>\n",
       "      <th>std</th>\n",
       "      <td>15.284621</td>\n",
       "      <td>9.265141</td>\n",
       "      <td>206.271960</td>\n",
       "      <td>16.874676</td>\n",
       "      <td>14.187340</td>\n",
       "      <td>17.981796</td>\n",
       "      <td>8.509174</td>\n",
       "      <td>68.098894</td>\n",
       "      <td>17.010031</td>\n",
       "      <td>18.935378</td>\n",
       "      <td>...</td>\n",
       "      <td>298.034311</td>\n",
       "      <td>212.532721</td>\n",
       "      <td>112.160233</td>\n",
       "      <td>112.160233</td>\n",
       "      <td>212.532721</td>\n",
       "      <td>281.040552</td>\n",
       "      <td>203.194976</td>\n",
       "      <td>106.486317</td>\n",
       "      <td>106.486317</td>\n",
       "      <td>203.194976</td>\n",
       "    </tr>\n",
       "    <tr>\n",
       "      <th>min</th>\n",
       "      <td>-61.300000</td>\n",
       "      <td>-114.000000</td>\n",
       "      <td>-970.000000</td>\n",
       "      <td>-137.000000</td>\n",
       "      <td>-217.000000</td>\n",
       "      <td>-218.000000</td>\n",
       "      <td>-255.000000</td>\n",
       "      <td>-1360.000000</td>\n",
       "      <td>-203.000000</td>\n",
       "      <td>-553.000000</td>\n",
       "      <td>...</td>\n",
       "      <td>-1180.000000</td>\n",
       "      <td>-921.000000</td>\n",
       "      <td>-504.000000</td>\n",
       "      <td>-504.000000</td>\n",
       "      <td>-921.000000</td>\n",
       "      <td>-1160.000000</td>\n",
       "      <td>-1010.000000</td>\n",
       "      <td>-521.000000</td>\n",
       "      <td>-521.000000</td>\n",
       "      <td>-1010.000000</td>\n",
       "    </tr>\n",
       "    <tr>\n",
       "      <th>25%</th>\n",
       "      <td>6.577500</td>\n",
       "      <td>26.075000</td>\n",
       "      <td>-195.000000</td>\n",
       "      <td>4.857500</td>\n",
       "      <td>23.600000</td>\n",
       "      <td>-3.105000</td>\n",
       "      <td>-1.340000</td>\n",
       "      <td>-4.002500</td>\n",
       "      <td>-2.905000</td>\n",
       "      <td>-2.622500</td>\n",
       "      <td>...</td>\n",
       "      <td>-106.500000</td>\n",
       "      <td>-8.365000</td>\n",
       "      <td>-92.900000</td>\n",
       "      <td>-92.900000</td>\n",
       "      <td>-8.365000</td>\n",
       "      <td>-102.500000</td>\n",
       "      <td>-8.837500</td>\n",
       "      <td>-87.150000</td>\n",
       "      <td>-87.150000</td>\n",
       "      <td>-8.837500</td>\n",
       "    </tr>\n",
       "    <tr>\n",
       "      <th>50%</th>\n",
       "      <td>14.100000</td>\n",
       "      <td>30.000000</td>\n",
       "      <td>14.950000</td>\n",
       "      <td>15.400000</td>\n",
       "      <td>25.200000</td>\n",
       "      <td>-0.044600</td>\n",
       "      <td>0.132000</td>\n",
       "      <td>0.957500</td>\n",
       "      <td>-0.099750</td>\n",
       "      <td>0.146500</td>\n",
       "      <td>...</td>\n",
       "      <td>83.850000</td>\n",
       "      <td>12.150000</td>\n",
       "      <td>-21.800000</td>\n",
       "      <td>-21.800000</td>\n",
       "      <td>12.150000</td>\n",
       "      <td>89.700000</td>\n",
       "      <td>13.400000</td>\n",
       "      <td>-24.100000</td>\n",
       "      <td>-24.100000</td>\n",
       "      <td>13.400000</td>\n",
       "    </tr>\n",
       "    <tr>\n",
       "      <th>75%</th>\n",
       "      <td>27.700000</td>\n",
       "      <td>31.400000</td>\n",
       "      <td>29.600000</td>\n",
       "      <td>26.500000</td>\n",
       "      <td>26.800000</td>\n",
       "      <td>2.920000</td>\n",
       "      <td>1.540000</td>\n",
       "      <td>6.735000</td>\n",
       "      <td>2.535000</td>\n",
       "      <td>2.870000</td>\n",
       "      <td>...</td>\n",
       "      <td>154.000000</td>\n",
       "      <td>177.000000</td>\n",
       "      <td>12.025000</td>\n",
       "      <td>12.025000</td>\n",
       "      <td>177.000000</td>\n",
       "      <td>153.000000</td>\n",
       "      <td>149.250000</td>\n",
       "      <td>10.925000</td>\n",
       "      <td>10.925000</td>\n",
       "      <td>149.250000</td>\n",
       "    </tr>\n",
       "    <tr>\n",
       "      <th>max</th>\n",
       "      <td>304.000000</td>\n",
       "      <td>42.300000</td>\n",
       "      <td>661.000000</td>\n",
       "      <td>206.000000</td>\n",
       "      <td>213.000000</td>\n",
       "      <td>402.000000</td>\n",
       "      <td>257.000000</td>\n",
       "      <td>1150.000000</td>\n",
       "      <td>349.000000</td>\n",
       "      <td>444.000000</td>\n",
       "      <td>...</td>\n",
       "      <td>1070.000000</td>\n",
       "      <td>843.000000</td>\n",
       "      <td>1490.000000</td>\n",
       "      <td>1490.000000</td>\n",
       "      <td>843.000000</td>\n",
       "      <td>1180.000000</td>\n",
       "      <td>888.000000</td>\n",
       "      <td>1670.000000</td>\n",
       "      <td>1670.000000</td>\n",
       "      <td>888.000000</td>\n",
       "    </tr>\n",
       "  </tbody>\n",
       "</table>\n",
       "<p>8 rows × 2548 columns</p>\n",
       "</div>"
      ],
      "text/plain": [
       "        # mean_0_a     mean_1_a     mean_2_a     mean_3_a     mean_4_a  \\\n",
       "count  2132.000000  2132.000000  2132.000000  2132.000000  2132.000000   \n",
       "mean     15.256914    27.012462  -104.975629    13.605898    24.150483   \n",
       "std      15.284621     9.265141   206.271960    16.874676    14.187340   \n",
       "min     -61.300000  -114.000000  -970.000000  -137.000000  -217.000000   \n",
       "25%       6.577500    26.075000  -195.000000     4.857500    23.600000   \n",
       "50%      14.100000    30.000000    14.950000    15.400000    25.200000   \n",
       "75%      27.700000    31.400000    29.600000    26.500000    26.800000   \n",
       "max     304.000000    42.300000   661.000000   206.000000   213.000000   \n",
       "\n",
       "        mean_d_0_a   mean_d_1_a   mean_d_2_a   mean_d_3_a   mean_d_4_a  ...  \\\n",
       "count  2132.000000  2132.000000  2132.000000  2132.000000  2132.000000  ...   \n",
       "mean      0.025378     0.052282     0.301655     0.036793     0.083567  ...   \n",
       "std      17.981796     8.509174    68.098894    17.010031    18.935378  ...   \n",
       "min    -218.000000  -255.000000 -1360.000000  -203.000000  -553.000000  ...   \n",
       "25%      -3.105000    -1.340000    -4.002500    -2.905000    -2.622500  ...   \n",
       "50%      -0.044600     0.132000     0.957500    -0.099750     0.146500  ...   \n",
       "75%       2.920000     1.540000     6.735000     2.535000     2.870000  ...   \n",
       "max     402.000000   257.000000  1150.000000   349.000000   444.000000  ...   \n",
       "\n",
       "         fft_740_b    fft_741_b    fft_742_b    fft_743_b    fft_744_b  \\\n",
       "count  2132.000000  2132.000000  2132.000000  2132.000000  2132.000000   \n",
       "mean    -22.938971   104.946111   -51.973647   -51.973647   104.946111   \n",
       "std     298.034311   212.532721   112.160233   112.160233   212.532721   \n",
       "min   -1180.000000  -921.000000  -504.000000  -504.000000  -921.000000   \n",
       "25%    -106.500000    -8.365000   -92.900000   -92.900000    -8.365000   \n",
       "50%      83.850000    12.150000   -21.800000   -21.800000    12.150000   \n",
       "75%     154.000000   177.000000    12.025000    12.025000   177.000000   \n",
       "max    1070.000000   843.000000  1490.000000  1490.000000   843.000000   \n",
       "\n",
       "         fft_745_b    fft_746_b    fft_747_b    fft_748_b    fft_749_b  \n",
       "count  2132.000000  2132.000000  2132.000000  2132.000000  2132.000000  \n",
       "mean     -6.934144    95.104886   -49.061255   -49.061255    95.104886  \n",
       "std     281.040552   203.194976   106.486317   106.486317   203.194976  \n",
       "min   -1160.000000 -1010.000000  -521.000000  -521.000000 -1010.000000  \n",
       "25%    -102.500000    -8.837500   -87.150000   -87.150000    -8.837500  \n",
       "50%      89.700000    13.400000   -24.100000   -24.100000    13.400000  \n",
       "75%     153.000000   149.250000    10.925000    10.925000   149.250000  \n",
       "max    1180.000000   888.000000  1670.000000  1670.000000   888.000000  \n",
       "\n",
       "[8 rows x 2548 columns]"
      ]
     },
     "execution_count": 5,
     "metadata": {},
     "output_type": "execute_result"
    }
   ],
   "source": [
    "df.describe()"
   ]
  },
  {
   "cell_type": "code",
   "execution_count": 12,
   "id": "cutting-mounting",
   "metadata": {},
   "outputs": [
    {
     "data": {
      "text/plain": [
       "<AxesSubplot:title={'center':'classes representation'}, ylabel='label'>"
      ]
     },
     "execution_count": 12,
     "metadata": {},
     "output_type": "execute_result"
    },
    {
     "data": {
      "image/png": "[encoded data removed]",
      "text/plain": [
       "<Figure size 432x288 with 1 Axes>"
      ]
     },
     "metadata": {},
     "output_type": "display_data"
    }
   ],
   "source": [
    "df['label'].value_counts().plot.pie(title = 'classes representation')"
   ]
  },
  {
   "cell_type": "code",
   "execution_count": 18,
   "id": "metallic-tiffany",
   "metadata": {},
   "outputs": [
    {
     "data": {
      "text/plain": [
       "Text(0.5, 1.0, 'Classes representation')"
      ]
     },
     "execution_count": 18,
     "metadata": {},
     "output_type": "execute_result"
    },
    {
     "data": {
      "image/png": "[encoded data removed]",
      "text/plain": [
       "<Figure size 864x432 with 1 Axes>"
      ]
     },
     "metadata": {},
     "output_type": "display_data"
    }
   ],
   "source": [
    "pie, ax = plt.subplots(figsize = (12,6))\n",
    "labels = df['label'].unique()\n",
    "plt.pie(x = df['label'].value_counts(), labels = labels, autopct = \"%.1f%%\", explode = [0.02]*3)\n",
    "plt.title('Classes representation')"
   ]
  },
  {
   "cell_type": "code",
   "execution_count": 20,
   "id": "single-fields",
   "metadata": {},
   "outputs": [
    {
     "data": {
      "text/plain": [
       "(2132, 2549)"
      ]
     },
     "execution_count": 20,
     "metadata": {},
     "output_type": "execute_result"
    }
   ],
   "source": [
    "df.shape"
   ]
  },
  {
   "cell_type": "code",
   "execution_count": 23,
   "id": "awful-fundamental",
   "metadata": {},
   "outputs": [
    {
     "data": {
      "text/plain": [
       "0"
      ]
     },
     "execution_count": 23,
     "metadata": {},
     "output_type": "execute_result"
    }
   ],
   "source": [
    "df.isnull().sum().max()"
   ]
  },
  {
   "cell_type": "markdown",
   "id": "excessive-stationery",
   "metadata": {},
   "source": [
    "## PCA & tSNE"
   ]
  },
  {
   "cell_type": "code",
   "execution_count": 140,
   "id": "pretty-chess",
   "metadata": {},
   "outputs": [],
   "source": [
    "from sklearn.decomposition import PCA\n",
    "from sklearn.preprocessing import StandardScaler\n",
    "\n",
    "\n",
    "stdscaler = StandardScaler()\n",
    "pca3 = PCA(n_components = 3)\n",
    "pca2 = PCA(n_components = 2)\n",
    "X = df.drop(['label'], axis = 1)\n",
    "\n",
    "X_3 = pca3.fit_transform(stdscaler.fit_transform(X))\n",
    "X_2 = pca2.fit_transform(stdscaler.fit_transform(X))"
   ]
  },
  {
   "cell_type": "code",
   "execution_count": 141,
   "id": "based-vulnerability",
   "metadata": {},
   "outputs": [
    {
     "data": {
      "text/plain": [
       "<matplotlib.legend.Legend at 0x1d4d60b90d0>"
      ]
     },
     "execution_count": 141,
     "metadata": {},
     "output_type": "execute_result"
    }
   ],
   "source": [
    "import seaborn as sns\n",
    "%matplotlib qt\n",
    "sns.set(style='darkgrid')\n",
    "\n",
    "cmap = df['label'].map({'NEGATIVE': 'r',\n",
    "                       'NEUTRAL': 'g',\n",
    "                       'POSITIVE': 'b'})\n",
    "\n",
    "fig = plt.figure(figsize=(20,12))\n",
    "\n",
    "\n",
    "ax = fig.add_subplot(121, projection = '3d')\n",
    "x3 = X_3[:,0]\n",
    "y3 = X_3[:,1]\n",
    "z3 = X_3[:,2]\n",
    "ax.scatter(x3, y3, z3, c = cmap, label = df['label'])\n",
    "ax.set_title('PCA 3D plot')\n",
    "ax.set_xlabel('Principal component 1')\n",
    "ax.set_ylabel('Principal component 2')\n",
    "ax.set_zlabel('Principal component 3')\n",
    "legend_elements3 = [Line2D([0], [0], marker = 'o', color = 'lightgrey',\n",
    "                           label = 'Negative', markerfacecolor = 'r',\n",
    "                           markersize =10),\n",
    "                   Line2D([0], [0], marker = 'o', color = 'lightgrey',\n",
    "                           label = 'Neutral', markerfacecolor = 'g',\n",
    "                           markersize =10),\n",
    "                   Line2D([0], [0], marker = 'o', color = 'lightgrey',\n",
    "                           label = 'Positive', markerfacecolor = 'b',\n",
    "                           markersize =10)]\n",
    "ax.legend(handles = legend_elements3)\n",
    "\n",
    "\n",
    "ax = fig.add_subplot(122)\n",
    "x2 = X_2[:,0]\n",
    "y2 = X_2[:,1]\n",
    "ax.scatter(x2, y2, c = cmap, label = df['label'])\n",
    "ax.set_title('PCA 2D plot')\n",
    "ax.set_xlabel('Principal component 1')\n",
    "ax.set_ylabel('Principal component 2')\n",
    "legend_elements3 = [Line2D([0], [0], marker = 'o', color = 'lightgrey',\n",
    "                           label = 'Negative', markerfacecolor = 'r',\n",
    "                           markersize =10),\n",
    "                   Line2D([0], [0], marker = 'o', color = 'lightgrey',\n",
    "                           label = 'Neutral', markerfacecolor = 'g',\n",
    "                           markersize =10),\n",
    "                   Line2D([0], [0], marker = 'o', color = 'lightgrey',\n",
    "                           label = 'Positive', markerfacecolor = 'b',\n",
    "                           markersize =10)]\n",
    "ax.legend(handles = legend_elements3)"
   ]
  },
  {
   "cell_type": "code",
   "execution_count": 79,
   "id": "municipal-distributor",
   "metadata": {},
   "outputs": [
    {
     "name": "stdout",
     "output_type": "stream",
     "text": [
      "Explained variance per component for 2D PCA : [0.36772564 0.09553894]\n",
      "Explained variance per component for 3D PCA : [0.36772564 0.09553894 0.08436069]\n"
     ]
    }
   ],
   "source": [
    "print(f'Explained variance per component for 2D PCA : {pca2.explained_variance_ratio_}')\n",
    "print(f'Explained variance per component for 3D PCA : {pca3.explained_variance_ratio_}')"
   ]
  },
  {
   "cell_type": "code",
   "execution_count": 123,
   "id": "fitting-spread",
   "metadata": {},
   "outputs": [
    {
     "data": {
      "text/plain": [
       "0.548"
      ]
     },
     "execution_count": 123,
     "metadata": {},
     "output_type": "execute_result"
    }
   ],
   "source": [
    "round(sum(pca3.explained_variance_ratio_), 3)"
   ]
  },
  {
   "cell_type": "code",
   "execution_count": 157,
   "id": "wireless-convertible",
   "metadata": {},
   "outputs": [],
   "source": [
    "from sklearn.manifold import TSNE\n",
    "tsne3 = TSNE(n_components = 3, early_exaggeration = 7.5, learning_rate = 300, perplexity = 30)\n",
    "tsne2 = TSNE(n_components = 2, early_exaggeration = 13, learning_rate = 300, perplexity = 30)\n",
    "\n",
    "X_3 = tsne3.fit_transform(stdscaler.fit_transform(X))\n",
    "X_2 = tsne2.fit_transform(stdscaler.fit_transform(X))"
   ]
  },
  {
   "cell_type": "code",
   "execution_count": 158,
   "id": "lovely-wiring",
   "metadata": {},
   "outputs": [
    {
     "name": "stderr",
     "output_type": "stream",
     "text": [
      "No handles with labels found to put in legend.\n"
     ]
    },
    {
     "data": {
      "text/plain": [
       "<matplotlib.legend.Legend at 0x1d489e42d00>"
      ]
     },
     "execution_count": 158,
     "metadata": {},
     "output_type": "execute_result"
    }
   ],
   "source": [
    "fig = plt.figure(figsize=(20,12))\n",
    "\n",
    "\n",
    "ax = fig.add_subplot(121, projection = '3d')\n",
    "x3 = X_3[:,0]\n",
    "y3 = X_3[:,1]\n",
    "z3 = X_3[:,2]\n",
    "scatter1 = ax.scatter(x3, y3, z3, c = cmap)\n",
    "ax.set_title('t-SNE 3D plot')\n",
    "ax.set_xlabel('component 1')\n",
    "ax.set_ylabel('component 2')\n",
    "ax.set_zlabel('component 3')\n",
    "legend_elements3 = [Line2D([0], [0], marker = 'o', color = 'lightgrey',\n",
    "                           label = 'Negative', markerfacecolor = 'r',\n",
    "                           markersize =10),\n",
    "                   Line2D([0], [0], marker = 'o', color = 'lightgrey',\n",
    "                           label = 'Neutral', markerfacecolor = 'g',\n",
    "                           markersize =10),\n",
    "                   Line2D([0], [0], marker = 'o', color = 'lightgrey',\n",
    "                           label = 'Positive', markerfacecolor = 'b',\n",
    "                           markersize =10)]\n",
    "ax.legend(handles = legend_elements3)\n",
    "\n",
    "ax = fig.add_subplot(122)\n",
    "x2 = X_2[:,0]\n",
    "y2 = X_2[:,1]\n",
    "ax.scatter(x2, y2, c = cmap, alpha = 0.7)\n",
    "ax.set_title('t-SNE 2D plot')\n",
    "ax.set_xlabel('component 1')\n",
    "ax.set_ylabel('component 2')\n",
    "ax.legend()\n",
    "legend_elements3 = [Line2D([0], [0], marker = 'o', color = 'lightgrey',\n",
    "                           label = 'Negative', markerfacecolor = 'r',\n",
    "                           markersize =10),\n",
    "                   Line2D([0], [0], marker = 'o', color = 'lightgrey',\n",
    "                           label = 'Neutral', markerfacecolor = 'g',\n",
    "                           markersize =10),\n",
    "                   Line2D([0], [0], marker = 'o', color = 'lightgrey',\n",
    "                           label = 'Positive', markerfacecolor = 'b',\n",
    "                           markersize =10)]\n",
    "ax.legend(handles = legend_elements3)"
   ]
  },
  {
   "cell_type": "markdown",
   "id": "funded-spotlight",
   "metadata": {},
   "source": [
    "# Classification"
   ]
  },
  {
   "cell_type": "markdown",
   "id": "joined-wound",
   "metadata": {},
   "source": [
    "## Simple models"
   ]
  },
  {
   "cell_type": "markdown",
   "id": "suitable-borough",
   "metadata": {},
   "source": [
    "Since the dataset is already processed, we'll fit several basic and compare results."
   ]
  },
  {
   "cell_type": "code",
   "execution_count": 162,
   "id": "surrounded-timer",
   "metadata": {},
   "outputs": [],
   "source": [
    "from sklearn.linear_model import LogisticRegression\n",
    "from sklearn.neighbors import KNeighborsClassifier\n",
    "from sklearn.svm import SVC\n",
    "from sklearn.tree import DecisionTreeClassifier\n",
    "\n",
    "from sklearn.model_selection import train_test_split"
   ]
  },
  {
   "cell_type": "markdown",
   "id": "raising-ending",
   "metadata": {},
   "source": [
    "### Train - Test - Split  & Scaling\n",
    "Since the dataset have balanced classes, there's no need for resampling procedures."
   ]
  },
  {
   "cell_type": "code",
   "execution_count": 222,
   "id": "alternative-pitch",
   "metadata": {},
   "outputs": [],
   "source": [
    "X = df.drop(['label'], axis = 1)\n",
    "y = df['label'].map({'NEGATIVE': '0',\n",
    "                       'NEUTRAL': '1',\n",
    "                       'POSITIVE': '2'})\n",
    "sscaler = StandardScaler()\n",
    "\n",
    "X_scaled = sscaler.fit_transform(X)\n",
    "\n",
    "X_train, X_test, y_train, y_test = train_test_split(X_scaled, y, test_size = 0.3)\n"
   ]
  },
  {
   "cell_type": "markdown",
   "id": "massive-rhythm",
   "metadata": {},
   "source": [
    "### Predictions using full datasets"
   ]
  },
  {
   "cell_type": "code",
   "execution_count": 169,
   "id": "tender-arrow",
   "metadata": {},
   "outputs": [
    {
     "name": "stderr",
     "output_type": "stream",
     "text": [
      "C:\\Users\\Tommy\\.conda\\envs\\My-Env\\lib\\site-packages\\sklearn\\linear_model\\_logistic.py:763: ConvergenceWarning: lbfgs failed to converge (status=1):\n",
      "STOP: TOTAL NO. of ITERATIONS REACHED LIMIT.\n",
      "\n",
      "Increase the number of iterations (max_iter) or scale the data as shown in:\n",
      "    https://scikit-learn.org/stable/modules/preprocessing.html\n",
      "Please also refer to the documentation for alternative solver options:\n",
      "    https://scikit-learn.org/stable/modules/linear_model.html#logistic-regression\n",
      "  n_iter_i = _check_optimize_result(\n"
     ]
    },
    {
     "data": {
      "text/plain": [
       "DecisionTreeClassifier(criterion='entropy')"
      ]
     },
     "execution_count": 169,
     "metadata": {},
     "output_type": "execute_result"
    }
   ],
   "source": [
    "lr = LogisticRegression(penalty = 'l2', C = 0.8, max_iter = 500)\n",
    "lr.fit(X_train, y_train)\n",
    "\n",
    "knn = KNeighborsClassifier(n_neighbors = 5)\n",
    "knn.fit(X_train, y_train)\n",
    "\n",
    "svc = SVC(C = 0.8)\n",
    "svc.fit(X_train, y_train)\n",
    "\n",
    "dtc = DecisionTreeClassifier(criterion = 'entropy')\n",
    "dtc.fit(X_train, y_train)"
   ]
  },
  {
   "cell_type": "code",
   "execution_count": 172,
   "id": "dressed-rebel",
   "metadata": {},
   "outputs": [],
   "source": [
    "y_preds = [lr.predict(X_test), knn.predict(X_test), svc.predict(X_test), dtc.predict(X_test)]"
   ]
  },
  {
   "cell_type": "code",
   "execution_count": 178,
   "id": "directed-mapping",
   "metadata": {},
   "outputs": [],
   "source": [
    "from sklearn.metrics import f1_score, accuracy_score, precision_score, recall_score\n",
    "from sklearn.metrics import classification_report"
   ]
  },
  {
   "cell_type": "code",
   "execution_count": 210,
   "id": "expected-period",
   "metadata": {},
   "outputs": [],
   "source": [
    "metrics_array = np.zeros((4, len(y_preds)))\n",
    "\n",
    "for i, y_pred in enumerate(y_preds):\n",
    "    metrics_array[0,i] = accuracy_score(y_pred, y_test)\n",
    "    metrics_array[1,i] = precision_score(y_pred, y_test, average = 'macro')\n",
    "    metrics_array[2,i] = recall_score(y_pred, y_test, average = 'macro')\n",
    "    metrics_array[3,i] = f1_score(y_pred, y_test, average = 'macro')\n",
    "    "
   ]
  },
  {
   "cell_type": "code",
   "execution_count": 213,
   "id": "major-activity",
   "metadata": {},
   "outputs": [
    {
     "data": {
      "text/html": [
       "<div>\n",
       "<style scoped>\n",
       "    .dataframe tbody tr th:only-of-type {\n",
       "        vertical-align: middle;\n",
       "    }\n",
       "\n",
       "    .dataframe tbody tr th {\n",
       "        vertical-align: top;\n",
       "    }\n",
       "\n",
       "    .dataframe thead th {\n",
       "        text-align: right;\n",
       "    }\n",
       "</style>\n",
       "<table border=\"1\" class=\"dataframe\">\n",
       "  <thead>\n",
       "    <tr style=\"text-align: right;\">\n",
       "      <th></th>\n",
       "      <th>accuracy</th>\n",
       "      <th>precision</th>\n",
       "      <th>recall</th>\n",
       "      <th>f1</th>\n",
       "    </tr>\n",
       "  </thead>\n",
       "  <tbody>\n",
       "    <tr>\n",
       "      <th>Logistic Regression</th>\n",
       "      <td>0.9609</td>\n",
       "      <td>0.9614</td>\n",
       "      <td>0.9615</td>\n",
       "      <td>0.9614</td>\n",
       "    </tr>\n",
       "    <tr>\n",
       "      <th>KNN</th>\n",
       "      <td>0.9406</td>\n",
       "      <td>0.9413</td>\n",
       "      <td>0.9445</td>\n",
       "      <td>0.9408</td>\n",
       "    </tr>\n",
       "    <tr>\n",
       "      <th>SVC</th>\n",
       "      <td>0.9422</td>\n",
       "      <td>0.9427</td>\n",
       "      <td>0.9452</td>\n",
       "      <td>0.9426</td>\n",
       "    </tr>\n",
       "    <tr>\n",
       "      <th>TreeClassifier</th>\n",
       "      <td>0.9688</td>\n",
       "      <td>0.9691</td>\n",
       "      <td>0.9690</td>\n",
       "      <td>0.9690</td>\n",
       "    </tr>\n",
       "  </tbody>\n",
       "</table>\n",
       "</div>"
      ],
      "text/plain": [
       "                     accuracy  precision  recall      f1\n",
       "Logistic Regression    0.9609     0.9614  0.9615  0.9614\n",
       "KNN                    0.9406     0.9413  0.9445  0.9408\n",
       "SVC                    0.9422     0.9427  0.9452  0.9426\n",
       "TreeClassifier         0.9688     0.9691  0.9690  0.9690"
      ]
     },
     "execution_count": 213,
     "metadata": {},
     "output_type": "execute_result"
    }
   ],
   "source": [
    "df_metrics_simple = pd.DataFrame(metrics_array, columns = ['Logistic Regression', 'KNN', 'SVC', 'TreeClassifier'])\n",
    "round(df_metrics_simple.rename({0:'accuracy', 1:'precision', 2:'recall', 3:'f1'}, axis = 0).T, 4)"
   ]
  },
  {
   "cell_type": "markdown",
   "id": "analyzed-digit",
   "metadata": {},
   "source": [
    "### Prediction using tSNE 3D dataset. "
   ]
  },
  {
   "cell_type": "code",
   "execution_count": 227,
   "id": "ahead-completion",
   "metadata": {},
   "outputs": [],
   "source": [
    "X_3d_train, X_3d_test, y_train, y_test = train_test_split(X_3, y)"
   ]
  },
  {
   "cell_type": "code",
   "execution_count": 217,
   "id": "separate-algeria",
   "metadata": {},
   "outputs": [],
   "source": [
    "lr.fit(X_3d_train, y_train)\n",
    "knn.fit(X_3d_train, y_train)\n",
    "svc.fit(X_3d_train, y_train)\n",
    "dtc.fit(X_3d_train, y_train)\n",
    "\n",
    "y_preds_3d = [lr.predict(X_3d_test), knn.predict(X_3d_test), svc.predict(X_3d_test), dtc.predict(X_3d_test)]"
   ]
  },
  {
   "cell_type": "code",
   "execution_count": 218,
   "id": "bearing-guess",
   "metadata": {
    "scrolled": false
   },
   "outputs": [
    {
     "data": {
      "text/html": [
       "<div>\n",
       "<style scoped>\n",
       "    .dataframe tbody tr th:only-of-type {\n",
       "        vertical-align: middle;\n",
       "    }\n",
       "\n",
       "    .dataframe tbody tr th {\n",
       "        vertical-align: top;\n",
       "    }\n",
       "\n",
       "    .dataframe thead th {\n",
       "        text-align: right;\n",
       "    }\n",
       "</style>\n",
       "<table border=\"1\" class=\"dataframe\">\n",
       "  <thead>\n",
       "    <tr style=\"text-align: right;\">\n",
       "      <th></th>\n",
       "      <th>accuracy</th>\n",
       "      <th>precision</th>\n",
       "      <th>recall</th>\n",
       "      <th>f1</th>\n",
       "    </tr>\n",
       "  </thead>\n",
       "  <tbody>\n",
       "    <tr>\n",
       "      <th>Logistic Regression</th>\n",
       "      <td>0.8724</td>\n",
       "      <td>0.8717</td>\n",
       "      <td>0.8742</td>\n",
       "      <td>0.8712</td>\n",
       "    </tr>\n",
       "    <tr>\n",
       "      <th>KNN</th>\n",
       "      <td>0.9306</td>\n",
       "      <td>0.9301</td>\n",
       "      <td>0.9318</td>\n",
       "      <td>0.9300</td>\n",
       "    </tr>\n",
       "    <tr>\n",
       "      <th>SVC</th>\n",
       "      <td>0.9118</td>\n",
       "      <td>0.9110</td>\n",
       "      <td>0.9178</td>\n",
       "      <td>0.9101</td>\n",
       "    </tr>\n",
       "    <tr>\n",
       "      <th>TreeClassifier</th>\n",
       "      <td>0.8931</td>\n",
       "      <td>0.8933</td>\n",
       "      <td>0.8939</td>\n",
       "      <td>0.8932</td>\n",
       "    </tr>\n",
       "  </tbody>\n",
       "</table>\n",
       "</div>"
      ],
      "text/plain": [
       "                     accuracy  precision  recall      f1\n",
       "Logistic Regression    0.8724     0.8717  0.8742  0.8712\n",
       "KNN                    0.9306     0.9301  0.9318  0.9300\n",
       "SVC                    0.9118     0.9110  0.9178  0.9101\n",
       "TreeClassifier         0.8931     0.8933  0.8939  0.8932"
      ]
     },
     "execution_count": 218,
     "metadata": {},
     "output_type": "execute_result"
    }
   ],
   "source": [
    "metrics_array = np.zeros((4, len(y_preds_3d)))\n",
    "\n",
    "for i, y_pred in enumerate(y_preds_3d):\n",
    "    metrics_array[0,i] = accuracy_score(y_pred, y_test)\n",
    "    metrics_array[1,i] = precision_score(y_pred, y_test, average = 'macro')\n",
    "    metrics_array[2,i] = recall_score(y_pred, y_test, average = 'macro')\n",
    "    metrics_array[3,i] = f1_score(y_pred, y_test, average = 'macro')\n",
    "    \n",
    "df_metrics_simple = pd.DataFrame(metrics_array, columns = ['Logistic Regression', 'KNN', 'SVC', 'TreeClassifier'])\n",
    "round(df_metrics_simple.rename({0:'accuracy', 1:'precision', 2:'recall', 3:'f1'}, axis = 0).T, 4)"
   ]
  },
  {
   "cell_type": "code",
   "execution_count": 219,
   "id": "dedicated-sodium",
   "metadata": {},
   "outputs": [],
   "source": [
    "from sklearn.ensemble import VotingClassifier"
   ]
  },
  {
   "cell_type": "code",
   "execution_count": 233,
   "id": "recognized-sunglasses",
   "metadata": {},
   "outputs": [
    {
     "name": "stderr",
     "output_type": "stream",
     "text": [
      "C:\\Users\\Tommy\\.conda\\envs\\My-Env\\lib\\site-packages\\sklearn\\linear_model\\_logistic.py:763: ConvergenceWarning: lbfgs failed to converge (status=1):\n",
      "STOP: TOTAL NO. of ITERATIONS REACHED LIMIT.\n",
      "\n",
      "Increase the number of iterations (max_iter) or scale the data as shown in:\n",
      "    https://scikit-learn.org/stable/modules/preprocessing.html\n",
      "Please also refer to the documentation for alternative solver options:\n",
      "    https://scikit-learn.org/stable/modules/linear_model.html#logistic-regression\n",
      "  n_iter_i = _check_optimize_result(\n"
     ]
    },
    {
     "name": "stdout",
     "output_type": "stream",
     "text": [
      "              precision    recall  f1-score   support\n",
      "\n",
      "           0       0.98      0.92      0.95       219\n",
      "           1       1.00      0.98      0.99       227\n",
      "           2       0.90      0.98      0.94       194\n",
      "\n",
      "    accuracy                           0.96       640\n",
      "   macro avg       0.96      0.96      0.96       640\n",
      "weighted avg       0.96      0.96      0.96       640\n",
      "\n"
     ]
    }
   ],
   "source": [
    "estimators = [('lr_l2', lr), ('KNN', knn), ('SVC', svc), ('Tree Classifier', dtc)]\n",
    "vc = VotingClassifier(estimators = estimators, voting = 'hard')\n",
    "vc.fit(X_train, y_train)\n",
    "y_pred = vc.predict(X_test)\n",
    "print(classification_report(y_pred, y_test))"
   ]
  },
  {
   "cell_type": "code",
   "execution_count": 234,
   "id": "moral-hamburg",
   "metadata": {},
   "outputs": [],
   "source": [
    "from sklearn.metrics import confusion_matrix"
   ]
  },
  {
   "cell_type": "code",
   "execution_count": 244,
   "id": "based-responsibility",
   "metadata": {},
   "outputs": [
    {
     "data": {
      "text/plain": [
       "<AxesSubplot:>"
      ]
     },
     "execution_count": 244,
     "metadata": {},
     "output_type": "execute_result"
    }
   ],
   "source": [
    "matrix = confusion_matrix(y_pred, y_test)\n",
    "sns.set(style = 'whitegrid')\n",
    "sns.heatmap(matrix, annot = True, cmap = 'Blues')"
   ]
  },
  {
   "cell_type": "code",
   "execution_count": 228,
   "id": "manufactured-payroll",
   "metadata": {},
   "outputs": [
    {
     "name": "stdout",
     "output_type": "stream",
     "text": [
      "              precision    recall  f1-score   support\n",
      "\n",
      "           0       0.99      0.88      0.93       192\n",
      "           1       0.98      0.96      0.97       206\n",
      "           2       0.80      0.96      0.87       135\n",
      "\n",
      "    accuracy                           0.93       533\n",
      "   macro avg       0.92      0.93      0.92       533\n",
      "weighted avg       0.94      0.93      0.93       533\n",
      "\n"
     ]
    }
   ],
   "source": [
    "vc.fit(X_3d_train, y_train)\n",
    "y_pred_3d = vc.predict(X_3d_test)\n",
    "print(classification_report(y_pred_3d, y_test))"
   ]
  },
  {
   "cell_type": "markdown",
   "id": "dedicated-press",
   "metadata": {},
   "source": [
    "# Ensemble models & Boost \n",
    "\n",
    "## Random Forest "
   ]
  },
  {
   "cell_type": "code",
   "execution_count": 245,
   "id": "subjective-crisis",
   "metadata": {},
   "outputs": [
    {
     "name": "stdout",
     "output_type": "stream",
     "text": [
      "              precision    recall  f1-score   support\n",
      "\n",
      "           0       1.00      0.93      0.96       229\n",
      "           1       0.98      1.00      0.99       209\n",
      "           2       0.92      0.98      0.95       202\n",
      "\n",
      "    accuracy                           0.97       640\n",
      "   macro avg       0.97      0.97      0.97       640\n",
      "weighted avg       0.97      0.97      0.97       640\n",
      "\n"
     ]
    }
   ],
   "source": [
    "from sklearn.ensemble import RandomForestClassifier \n",
    "\n",
    "rfc = RandomForestClassifier(n_estimators = 120, criterion = 'entropy',\n",
    "                             max_depth = 10, max_features = 10,\n",
    "                             oob_score = True)\n",
    "X_train, X_test, y_train, y_test = train_test_split(X_scaled, y, test_size = 0.3)\n",
    "\n",
    "rfc.fit(X_train, y_train)\n",
    "y_pred = rfc.predict(X_test)\n",
    "print(classification_report(y_pred, y_test))\n",
    "matrix = confusion_matrix(y_pred, y_test)\n",
    "sns.heatmap(matrix, annot = True, cmap = 'Blues', fmt = 'd')"
   ]
  },
  {
   "cell_type": "markdown",
   "id": "worldwide-commission",
   "metadata": {},
   "source": [
    "## XGBoost"
   ]
  },
  {
   "cell_type": "code",
   "execution_count": 263,
   "id": "religious-rugby",
   "metadata": {},
   "outputs": [],
   "source": [
    "from xgboost import XGBClassifier"
   ]
  },
  {
   "cell_type": "code",
   "execution_count": 253,
   "id": "governing-concord",
   "metadata": {},
   "outputs": [],
   "source": [
    "dtrain = xgb.DMatrix(data = X_train, label = y_train)\n",
    "dtest = xgb.DMatrix(data = X_test)"
   ]
  },
  {
   "cell_type": "code",
   "execution_count": 264,
   "id": "involved-majority",
   "metadata": {},
   "outputs": [
    {
     "name": "stderr",
     "output_type": "stream",
     "text": [
      "C:\\Users\\Tommy\\.conda\\envs\\My-Env\\lib\\site-packages\\xgboost\\core.py:416: FutureWarning: Pass `objective` as keyword args.  Passing these as positional arguments will be considered as error in future releases.\n",
      "  warnings.warn(\n",
      "C:\\Users\\Tommy\\.conda\\envs\\My-Env\\lib\\site-packages\\xgboost\\sklearn.py:888: UserWarning: The use of label encoder in XGBClassifier is deprecated and will be removed in a future release. To remove this warning, do the following: 1) Pass option use_label_encoder=False when constructing XGBClassifier object; and 2) Encode your labels (y) as integers starting with 0, i.e. 0, 1, 2, ..., [num_class - 1].\n",
      "  warnings.warn(label_encoder_deprecation_msg, UserWarning)\n"
     ]
    },
    {
     "name": "stdout",
     "output_type": "stream",
     "text": [
      "[19:23:27] WARNING: C:/Users/Administrator/workspace/xgboost-win64_release_1.3.0/src/learner.cc:1061: Starting in XGBoost 1.3.0, the default evaluation metric used with the objective 'multi:softprob' was changed from 'merror' to 'mlogloss'. Explicitly set eval_metric if you'd like to restore the old behavior.\n"
     ]
    }
   ],
   "source": [
    "params = {'max_depth':2, 'eta':0.5, 'subsample' : 0.7, 'num_classes' : 3}\n",
    "\n",
    "xgb_model = XGBClassifier(params)\n",
    "xgb_model.fit(X_train, y_train)\n",
    "y_pred = xgb_model.predict(X_test)"
   ]
  },
  {
   "cell_type": "code",
   "execution_count": 266,
   "id": "amateur-antigua",
   "metadata": {},
   "outputs": [
    {
     "name": "stdout",
     "output_type": "stream",
     "text": [
      "              precision    recall  f1-score   support\n",
      "\n",
      "           0       1.00      0.99      0.99       216\n",
      "           1       0.98      1.00      0.99       208\n",
      "           2       0.99      0.98      0.98       216\n",
      "\n",
      "    accuracy                           0.99       640\n",
      "   macro avg       0.99      0.99      0.99       640\n",
      "weighted avg       0.99      0.99      0.99       640\n",
      "\n"
     ]
    },
    {
     "data": {
      "text/plain": [
       "<AxesSubplot:>"
      ]
     },
     "execution_count": 266,
     "metadata": {},
     "output_type": "execute_result"
    }
   ],
   "source": [
    "print(classification_report(y_pred, y_test))\n",
    "matrix = confusion_matrix(y_pred, y_test)\n",
    "sns.heatmap(matrix, annot = True, fmt = 'd', cmap = 'Blues')"
   ]
  },
  {
   "cell_type": "markdown",
   "id": "oriented-feature",
   "metadata": {},
   "source": [
    "### Using 3D dataset for XGBoost"
   ]
  },
  {
   "cell_type": "code",
   "execution_count": 267,
   "id": "severe-excess",
   "metadata": {},
   "outputs": [],
   "source": [
    "X_3 = tsne3.fit_transform(stdscaler.fit_transform(X))\n",
    "X3_train, X3_test, y_train, y_test = train_test_split(X_3, y)"
   ]
  },
  {
   "cell_type": "code",
   "execution_count": 268,
   "id": "handmade-polyester",
   "metadata": {},
   "outputs": [
    {
     "name": "stderr",
     "output_type": "stream",
     "text": [
      "C:\\Users\\Tommy\\.conda\\envs\\My-Env\\lib\\site-packages\\xgboost\\sklearn.py:888: UserWarning: The use of label encoder in XGBClassifier is deprecated and will be removed in a future release. To remove this warning, do the following: 1) Pass option use_label_encoder=False when constructing XGBClassifier object; and 2) Encode your labels (y) as integers starting with 0, i.e. 0, 1, 2, ..., [num_class - 1].\n",
      "  warnings.warn(label_encoder_deprecation_msg, UserWarning)\n"
     ]
    },
    {
     "name": "stdout",
     "output_type": "stream",
     "text": [
      "[19:31:10] WARNING: C:/Users/Administrator/workspace/xgboost-win64_release_1.3.0/src/learner.cc:1061: Starting in XGBoost 1.3.0, the default evaluation metric used with the objective 'multi:softprob' was changed from 'merror' to 'mlogloss'. Explicitly set eval_metric if you'd like to restore the old behavior.\n"
     ]
    }
   ],
   "source": [
    "xgb_model.fit(X3_train, y_train)\n",
    "y_pred3 = xgb_model.predict(X3_test)"
   ]
  },
  {
   "cell_type": "code",
   "execution_count": 269,
   "id": "english-brooks",
   "metadata": {
    "scrolled": true
   },
   "outputs": [
    {
     "name": "stdout",
     "output_type": "stream",
     "text": [
      "              precision    recall  f1-score   support\n",
      "\n",
      "           0       0.95      0.91      0.93       177\n",
      "           1       0.98      0.97      0.98       193\n",
      "           2       0.88      0.94      0.91       163\n",
      "\n",
      "    accuracy                           0.94       533\n",
      "   macro avg       0.94      0.94      0.94       533\n",
      "weighted avg       0.94      0.94      0.94       533\n",
      "\n"
     ]
    },
    {
     "data": {
      "text/plain": [
       "<AxesSubplot:>"
      ]
     },
     "execution_count": 269,
     "metadata": {},
     "output_type": "execute_result"
    }
   ],
   "source": [
    "print(classification_report(y_pred3, y_test))\n",
    "matrix = confusion_matrix(y_pred3, y_test)\n",
    "sns.heatmap(matrix, annot = True, fmt = 'd', cmap = 'Blues')"
   ]
  },
  {
   "cell_type": "code",
   "execution_count": null,
   "id": "graphic-charles",
   "metadata": {},
   "outputs": [],
   "source": []
  }
 ],
 "metadata": {
  "kernelspec": {
   "display_name": "Python 3",
   "language": "python",
   "name": "python3"
  },
  "language_info": {
   "codemirror_mode": {
    "name": "ipython",
    "version": 3
   },
   "file_extension": ".py",
   "mimetype": "text/x-python",
   "name": "python",
   "nbconvert_exporter": "python",
   "pygments_lexer": "ipython3",
   "version": "3.8.8"
  }
 },
 "nbformat": 4,
 "nbformat_minor": 5
}
